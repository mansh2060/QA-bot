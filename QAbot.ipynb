{
  "nbformat": 4,
  "nbformat_minor": 0,
  "metadata": {
    "colab": {
      "provenance": [],
      "authorship_tag": "ABX9TyMeUhsyKzFAVwxZEHV0MZ4r",
      "include_colab_link": true
    },
    "kernelspec": {
      "name": "python3",
      "display_name": "Python 3"
    },
    "language_info": {
      "name": "python"
    }
  },
  "cells": [
    {
      "cell_type": "markdown",
      "metadata": {
        "id": "view-in-github",
        "colab_type": "text"
      },
      "source": [
        "<a href=\"https://colab.research.google.com/github/mansh2060/QA-bot/blob/main/QAbot.ipynb\" target=\"_parent\"><img src=\"https://colab.research.google.com/assets/colab-badge.svg\" alt=\"Open In Colab\"/></a>"
      ]
    },
    {
      "cell_type": "code",
      "execution_count": null,
      "metadata": {
        "id": "OV8QezGNSmo8"
      },
      "outputs": [],
      "source": [
        "import wget\n",
        "from transformers import DPRContextEncoder,DPRContextEncoderTokenizer,DPRQuestionEncoder,DPRQuestionEncoderTokenizer\n",
        "import torch\n",
        "import numpy as np\n",
        "from transformers import AutoTokenizer,AutoModelForCausalLM\n",
        "from pinecone import Pinecone,ServerlessSpec,PodSpec"
      ]
    },
    {
      "cell_type": "code",
      "source": [
        "filename='companypolicies.txt'\n",
        "url='https://cf-courses-data.s3.us.cloud-object-storage.appdomain.cloud/6JDbUb_L3egv_eOkouY71A.txt'\n",
        "wget.download(url,out=filename)"
      ],
      "metadata": {
        "colab": {
          "base_uri": "https://localhost:8080/",
          "height": 36
        },
        "id": "LvRGSkQeUFQn",
        "outputId": "52d5352e-b4cd-4084-fb1d-a824ee1f4bf6"
      },
      "execution_count": null,
      "outputs": [
        {
          "output_type": "execute_result",
          "data": {
            "text/plain": [
              "'companypolicies (1).txt'"
            ],
            "application/vnd.google.colaboratory.intrinsic+json": {
              "type": "string"
            }
          },
          "metadata": {},
          "execution_count": 148
        }
      ]
    },
    {
      "cell_type": "code",
      "source": [
        "#file-read + data - list + data -space eliminate  = return paragraph\n",
        "def read_file(filename):\n",
        "    with open(filename,'r',encoding='utf-8') as files:\n",
        "        file=files.read()\n",
        "\n",
        "    paragraphs=file.split('\\n')\n",
        "    paragraphs=[para.strip() for para in paragraphs if len(para.strip()) > 0 ]\n",
        "    return paragraphs\n",
        "paragraphs=read_file('companypolicies.txt')"
      ],
      "metadata": {
        "id": "Y7RTCF9IUoyc"
      },
      "execution_count": null,
      "outputs": []
    },
    {
      "cell_type": "code",
      "source": [
        "model_name=\"facebook/dpr-ctx_encoder-single-nq-base\""
      ],
      "metadata": {
        "id": "7iPaG0aeUzmb"
      },
      "execution_count": null,
      "outputs": []
    },
    {
      "cell_type": "markdown",
      "source": [
        "Used DPR for tokenization,embeddings,question answer answering instead of OPENAI API"
      ],
      "metadata": {
        "id": "Jjh6ZuFJHvHt"
      }
    },
    {
      "cell_type": "code",
      "source": [
        "def encode_contexts(text_list):\n",
        "    embeddings=[]\n",
        "    context_tokenizer=DPRContextEncoderTokenizer.from_pretrained(model_name)\n",
        "    context_encoder=DPRContextEncoder.from_pretrained(model_name)\n",
        "    for text in text_list:\n",
        "        tokens=context_tokenizer(text,padding=True,return_tensors=\"pt\",truncation=True,max_length=256)\n",
        "        vectors=context_encoder(**tokens)\n",
        "        embeddings.append(vectors.pooler_output)\n",
        "    return torch.cat(embeddings).detach().numpy()\n",
        "context_embedding=encode_contexts(paragraphs)\n"
      ],
      "metadata": {
        "id": "z0GFtUBuU4Hz"
      },
      "execution_count": null,
      "outputs": []
    },
    {
      "cell_type": "code",
      "source": [
        "len(context_embedding)"
      ],
      "metadata": {
        "id": "fppZE9U1VEzd",
        "colab": {
          "base_uri": "https://localhost:8080/"
        },
        "outputId": "74055176-9468-4b0a-d3f8-dd00f2bfe8ee"
      },
      "execution_count": null,
      "outputs": [
        {
          "output_type": "execute_result",
          "data": {
            "text/plain": [
              "76"
            ]
          },
          "metadata": {},
          "execution_count": 213
        }
      ]
    },
    {
      "cell_type": "code",
      "source": [
        "context_embedding.shape"
      ],
      "metadata": {
        "colab": {
          "base_uri": "https://localhost:8080/"
        },
        "id": "PmRZJtSahItU",
        "outputId": "69720fdc-ebcc-44c4-ee97-0a6151172d83"
      },
      "execution_count": null,
      "outputs": [
        {
          "output_type": "execute_result",
          "data": {
            "text/plain": [
              "(76, 768)"
            ]
          },
          "metadata": {},
          "execution_count": 214
        }
      ]
    },
    {
      "cell_type": "code",
      "source": [
        "context_embedding"
      ],
      "metadata": {
        "colab": {
          "base_uri": "https://localhost:8080/"
        },
        "id": "EM_LCPjpXmiK",
        "outputId": "49991938-d5b7-444b-853a-4af02760f654"
      },
      "execution_count": null,
      "outputs": [
        {
          "output_type": "execute_result",
          "data": {
            "text/plain": [
              "array([[ 1.2332821 , -1.1841292 ,  0.03847372, ...,  0.24722798,\n",
              "         1.3102813 , -1.9066025 ],\n",
              "       [ 0.97840405, -1.019581  ,  0.24952444, ...,  0.41552603,\n",
              "         1.2107834 , -1.6416715 ],\n",
              "       [ 0.9553924 , -1.1559378 ,  0.2559863 , ...,  0.48858047,\n",
              "         1.2516516 , -1.7455238 ],\n",
              "       ...,\n",
              "       [ 0.7808161 , -1.0014777 ,  0.32689705, ...,  0.27574834,\n",
              "         1.1540724 , -1.6400774 ],\n",
              "       [ 0.88111687, -0.99578106,  0.20064867, ...,  0.51199406,\n",
              "         1.2861305 , -1.7275058 ],\n",
              "       [ 0.84801227, -0.9993715 ,  0.35512507, ...,  0.31374866,\n",
              "         1.4298874 , -1.6731874 ]], dtype=float32)"
            ]
          },
          "metadata": {},
          "execution_count": 215
        }
      ]
    },
    {
      "cell_type": "markdown",
      "source": [
        "Used PineCone for vector database"
      ],
      "metadata": {
        "id": "seua4stmIL00"
      }
    },
    {
      "cell_type": "code",
      "source": [
        "import os\n",
        "use_serverless=True"
      ],
      "metadata": {
        "id": "gNnuilgrZfBI"
      },
      "execution_count": null,
      "outputs": []
    },
    {
      "cell_type": "code",
      "source": [
        "api_key=os.environ.get('PINECONE_API_KEY')\n",
        "pc=Pinecone(api_key=\"pcsk_3LLvfq_RmMBF385Va33QedCqyG6cU9HuvANvMbXnLXYzzP25wK4Lmyx8jRadnkUQ4tuHWN\")"
      ],
      "metadata": {
        "id": "fx2GtCPCnFth"
      },
      "execution_count": null,
      "outputs": []
    },
    {
      "cell_type": "code",
      "source": [
        "if use_serverless:\n",
        "  spec=ServerlessSpec(cloud='aws',region='us-east-1')\n",
        "else:\n",
        "  spec=PodSpec(environment='environment')"
      ],
      "metadata": {
        "id": "la1WlsWLnw8Z"
      },
      "execution_count": null,
      "outputs": []
    },
    {
      "cell_type": "code",
      "source": [
        "index_name=\"ragdatabase\"\n",
        "if index_name in pc.list_indexes().names():\n",
        "   pc.delete_index(index_name)"
      ],
      "metadata": {
        "id": "okHtwQWeoZoI"
      },
      "execution_count": null,
      "outputs": []
    },
    {
      "cell_type": "code",
      "source": [
        "index_name = \"ragdatabase\"\n",
        "if index_name not in pc.list_indexes():\n",
        "    pc.create_index(index_name,\n",
        "                    dimension=768,\n",
        "                    metric=\"cosine\",\n",
        "                    spec=ServerlessSpec(\n",
        "                    cloud='aws',\n",
        "                    region='us-east-1'\n",
        "                     )\n",
        "                    )\n",
        "index = pc.Index(index_name)\n",
        "ids = [f\"id-{i}\" for i in range(len(context_embedding))]\n",
        "\n",
        "data = [(ids[i], context_embedding[i].tolist()) for i in range(len(context_embedding))]\n",
        "index.upsert(vectors=data)\n",
        "print(\"Vectors uploaded successfully to Pinecone!\")\n"
      ],
      "metadata": {
        "colab": {
          "base_uri": "https://localhost:8080/"
        },
        "id": "zhjFXJf2ekV8",
        "outputId": "329d0838-42ff-420d-fddd-7f9fa0878778"
      },
      "execution_count": null,
      "outputs": [
        {
          "output_type": "stream",
          "name": "stdout",
          "text": [
            "Vectors uploaded successfully to Pinecone!\n"
          ]
        }
      ]
    },
    {
      "cell_type": "code",
      "source": [
        "question_encoder=DPRQuestionEncoder.from_pretrained(model_name)\n",
        "question_tokenizer=DPRQuestionEncoderTokenizer.from_pretrained(model_name)"
      ],
      "metadata": {
        "id": "RyQ_rEKhqJHM"
      },
      "execution_count": null,
      "outputs": []
    },
    {
      "cell_type": "code",
      "source": [
        "tokenizer = AutoTokenizer.from_pretrained(\"openai-community/gpt2\")\n",
        "model = AutoModelForCausalLM.from_pretrained(\"openai-community/gpt2\")\n",
        "model.generation_config.pad_token_id = tokenizer.pad_token_id"
      ],
      "metadata": {
        "id": "npgAt3CGqXrt"
      },
      "execution_count": null,
      "outputs": []
    },
    {
      "cell_type": "code",
      "source": [
        "def generate_answer(question):\n",
        "    inputs = tokenizer(question, return_tensors='pt', max_length=1024, truncation=True)\n",
        "    summary_ids = model.generate(inputs['input_ids'], max_length=150, min_length=40, length_penalty=2.0,\n",
        "                                 num_beams=4, early_stopping=True,pad_token_id=tokenizer.eos_token_id)\n",
        "    answer = tokenizer.decode(summary_ids[0], skip_special_tokens=True)\n",
        "    return answer"
      ],
      "metadata": {
        "id": "DaoA_IRSqpgL"
      },
      "execution_count": null,
      "outputs": []
    },
    {
      "cell_type": "markdown",
      "source": [
        "# Testing ***QA*** Bot from generate answer function"
      ],
      "metadata": {
        "id": "Ge6O8Fwj7ZQA"
      }
    },
    {
      "cell_type": "code",
      "source": [
        "question = \"what is Smoking policy?\"\n",
        "answer = generate_answer(question)\n",
        "print(answer)"
      ],
      "metadata": {
        "colab": {
          "base_uri": "https://localhost:8080/"
        },
        "id": "R_ZB6KtCF_jB",
        "outputId": "0cbec745-77c0-4df1-a336-5c5c69daba2a"
      },
      "execution_count": null,
      "outputs": [
        {
          "output_type": "stream",
          "name": "stdout",
          "text": [
            "what is Smoking policy?\n",
            "\n",
            "Smoking is defined as \"the use of tobacco products, including cigarettes, cigars, pipes, pipes, pipes, pipes, pipes, pipes, pipes, pipes, pipes, pipes, pipes, pipes, pipes, pipes, pipes, pipes, pipes, pipes, pipes, pipes, pipes, pipes, pipes, pipes, pipes, pipes, pipes, pipes, pipes, pipes, pipes, pipes, pipes, pipes, pipes, pipes, pipes, pipes, pipes, pipes, pipes, pipes, pipes, pipes, pipes, pipes, pipes, pipes, pipes, pipes, pipes, pipes, pipes, pipes, pipes, pipes, pipes, pipes, pipes, pipes, pipes, pipes, pipes,\n"
          ]
        }
      ]
    },
    {
      "cell_type": "code",
      "source": [
        "question = \"what is Recruitment policy?\"\n",
        "answer = generate_answer(question)\n",
        "print(answer)"
      ],
      "metadata": {
        "colab": {
          "base_uri": "https://localhost:8080/"
        },
        "id": "iBqOfboMTHlp",
        "outputId": "94533752-45f7-40f8-c8d0-ff0311e03dc5"
      },
      "execution_count": null,
      "outputs": [
        {
          "output_type": "stream",
          "name": "stdout",
          "text": [
            "what is Recruitment policy?\n",
            "\n",
            "Recruitment policy is the process by which a recruiter is able to identify potential candidates for a position. Recruitment policy is the process by which a recruiter is able to identify potential candidates for a position. Recruitment policy is the process by which a recruiter is able to identify potential candidates for a position. Recruitment policy is the process by which a recruiter is able to identify potential candidates for a position. Recruitment policy is the process by which a recruiter is able to identify potential candidates for a position. Recruitment policy is the process by which a recruiter is able to identify potential candidates for a position. Recruitment policy is the process by which\n"
          ]
        }
      ]
    },
    {
      "cell_type": "code",
      "source": [
        "question = \"what is Internet and Email policy?\"\n",
        "answer = generate_answer(question)\n",
        "print(answer)"
      ],
      "metadata": {
        "colab": {
          "base_uri": "https://localhost:8080/"
        },
        "id": "sm8Vku2o5-u-",
        "outputId": "6bd36dc6-ac68-491e-83f8-7f817df770d7"
      },
      "execution_count": null,
      "outputs": [
        {
          "output_type": "stream",
          "name": "stdout",
          "text": [
            "what is Internet and Email policy?\n",
            "\n",
            "Internet and email policy is the responsibility of the user. It is the responsibility of the user to ensure that the information provided on the Internet is accurate and up-to-date. It is also the responsibility of the user to ensure that the information provided on the Internet is accurate and up-to-date.\n",
            "\n",
            "How do I register for an account?\n",
            "\n",
            "You can register for an account at any time by clicking on the \"Register Now\" link on the right side of the page.\n",
            "\n",
            "How do I sign up for an account?\n",
            "\n",
            "You can sign up for an account at any time by clicking on the \"Sign Up Now\" link on the right side of the page.\n"
          ]
        }
      ]
    },
    {
      "cell_type": "code",
      "source": [
        "question = \"what is Drug and Alcohol policy?\"\n",
        "answer = generate_answer(question)\n",
        "print(answer)"
      ],
      "metadata": {
        "colab": {
          "base_uri": "https://localhost:8080/"
        },
        "id": "ckc_k5qd6Iov",
        "outputId": "63ea647b-4d14-445b-e586-c7714e5521bf"
      },
      "execution_count": null,
      "outputs": [
        {
          "output_type": "stream",
          "name": "stdout",
          "text": [
            "what is Drug and Alcohol policy?\n",
            "\n",
            "Drug and alcohol policy is the policy of the government. It is the policy of the government. It is the policy of the government. It is the policy of the government. It is the policy of the government. It is the policy of the government. It is the policy of the government. It is the policy of the government. It is the policy of the government. It is the policy of the government. It is the policy of the government. It is the policy of the government. It is the policy of the government. It is the policy of the government. It is the policy of the government. It is the policy of the government. It is the policy of the government. It is\n"
          ]
        }
      ]
    },
    {
      "cell_type": "code",
      "source": [
        "question = \"what is Health and Safety Policy?\"\n",
        "answer = generate_answer(question)\n",
        "print(answer)"
      ],
      "metadata": {
        "colab": {
          "base_uri": "https://localhost:8080/"
        },
        "id": "5iOVb6EY6ZSB",
        "outputId": "d0614c0f-1f00-4a6d-836e-f0d470b4c5fc"
      },
      "execution_count": null,
      "outputs": [
        {
          "output_type": "stream",
          "name": "stdout",
          "text": [
            "what is Health and Safety Policy?\n",
            "\n",
            "Health and Safety Policy (HSP) is a federal law that governs the health and safety of the U.S. population.\n",
            "\n",
            "HSP is a federal law that governs the health and safety of the U.S. population. The U.S. Department of Health and Human Services (HHS) is responsible for administering HSP.\n",
            "\n",
            "HSP is a federal law that governs the health and safety of the U.S. population. The U.S. Department of Health and Human Services (HHS) is responsible for administering HSP. The U.S. Department of Agriculture (USDA) is responsible for administering HSP.\n",
            "\n",
            "HSP is a federal law\n"
          ]
        }
      ]
    }
  ]
}