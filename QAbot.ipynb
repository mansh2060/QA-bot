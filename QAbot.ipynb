{
  "nbformat": 4,
  "nbformat_minor": 0,
  "metadata": {
    "colab": {
      "provenance": [],
      "authorship_tag": "ABX9TyP60H0SqUdVVOhtV0Q6Jm91",
      "include_colab_link": true
    },
    "kernelspec": {
      "name": "python3",
      "display_name": "Python 3"
    },
    "language_info": {
      "name": "python"
    }
  },
  "cells": [
    {
      "cell_type": "markdown",
      "metadata": {
        "id": "view-in-github",
        "colab_type": "text"
      },
      "source": [
        "<a href=\"https://colab.research.google.com/github/mansh2060/QA-bot/blob/main/QAbot.ipynb\" target=\"_parent\"><img src=\"https://colab.research.google.com/assets/colab-badge.svg\" alt=\"Open In Colab\"/></a>"
      ]
    },
    {
      "cell_type": "code",
      "execution_count": null,
      "metadata": {
        "id": "OV8QezGNSmo8"
      },
      "outputs": [],
      "source": [
        "import wget\n",
        "from transformers import DPRContextEncoder,DPRContextEncoderTokenizer,DPRQuestionEncoder,DPRQuestionEncoderTokenizer\n",
        "import torch\n",
        "import numpy as np\n",
        "from transformers import AutoTokenizer,AutoModelForCausalLM\n",
        "from pinecone import Pinecone,ServerlessSpec,PodSpec"
      ]
    },
    {
      "cell_type": "code",
      "source": [
        "filename='companypolicies.txt'\n",
        "url='https://cf-courses-data.s3.us.cloud-object-storage.appdomain.cloud/6JDbUb_L3egv_eOkouY71A.txt'\n",
        "wget.download(url,out=filename)"
      ],
      "metadata": {
        "colab": {
          "base_uri": "https://localhost:8080/",
          "height": 36
        },
        "id": "LvRGSkQeUFQn",
        "outputId": "52d5352e-b4cd-4084-fb1d-a824ee1f4bf6"
      },
      "execution_count": null,
      "outputs": [
        {
          "output_type": "execute_result",
          "data": {
            "text/plain": [
              "'companypolicies (1).txt'"
            ],
            "application/vnd.google.colaboratory.intrinsic+json": {
              "type": "string"
            }
          },
          "metadata": {},
          "execution_count": 148
        }
      ]
    },
    {
      "cell_type": "code",
      "source": [
        "#file-read + data - list + data -space eliminate  = return paragraph\n",
        "def read_file(filename):\n",
        "    with open(filename,'r',encoding='utf-8') as files:\n",
        "        file=files.read()\n",
        "\n",
        "    paragraphs=file.split('\\n')\n",
        "    paragraphs=[para.strip() for para in paragraphs if len(para.strip()) > 0 ]\n",
        "    return paragraphs\n",
        "paragraphs=read_file('companypolicies.txt')"
      ],
      "metadata": {
        "id": "Y7RTCF9IUoyc"
      },
      "execution_count": null,
      "outputs": []
    },
    {
      "cell_type": "code",
      "source": [
        "model_name=\"facebook/dpr-ctx_encoder-single-nq-base\""
      ],
      "metadata": {
        "id": "7iPaG0aeUzmb"
      },
      "execution_count": null,
      "outputs": []
    },
    {
      "cell_type": "markdown",
      "source": [
        "Used DPR for tokenization,embeddings,question answer answering instead of OPENAI API"
      ],
      "metadata": {
        "id": "Jjh6ZuFJHvHt"
      }
    },
    {
      "cell_type": "code",
      "source": [
        "def encode_contexts(text_list):\n",
        "    embeddings=[]\n",
        "    context_tokenizer=DPRContextEncoderTokenizer.from_pretrained(model_name)\n",
        "    context_encoder=DPRContextEncoder.from_pretrained(model_name)\n",
        "    for text in text_list:\n",
        "        tokens=context_tokenizer(text,padding=True,return_tensors=\"pt\",truncation=True,max_length=256)\n",
        "        vectors=context_encoder(**tokens)\n",
        "        embeddings.append(vectors.pooler_output)\n",
        "    return torch.cat(embeddings).detach().numpy()\n",
        "context_embedding=encode_contexts(paragraphs)\n"
      ],
      "metadata": {
        "id": "z0GFtUBuU4Hz"
      },
      "execution_count": null,
      "outputs": []
    },
    {
      "cell_type": "code",
      "source": [
        "len(context_embedding)"
      ],
      "metadata": {
        "id": "fppZE9U1VEzd",
        "colab": {
          "base_uri": "https://localhost:8080/"
        },
        "outputId": "74055176-9468-4b0a-d3f8-dd00f2bfe8ee"
      },
      "execution_count": null,
      "outputs": [
        {
          "output_type": "execute_result",
          "data": {
            "text/plain": [
              "76"
            ]
          },
          "metadata": {},
          "execution_count": 213
        }
      ]
    },
    {
      "cell_type": "code",
      "source": [
        "context_embedding.shape"
      ],
      "metadata": {
        "colab": {
          "base_uri": "https://localhost:8080/"
        },
        "id": "PmRZJtSahItU",
        "outputId": "69720fdc-ebcc-44c4-ee97-0a6151172d83"
      },
      "execution_count": null,
      "outputs": [
        {
          "output_type": "execute_result",
          "data": {
            "text/plain": [
              "(76, 768)"
            ]
          },
          "metadata": {},
          "execution_count": 214
        }
      ]
    },
    {
      "cell_type": "code",
      "source": [
        "context_embedding"
      ],
      "metadata": {
        "colab": {
          "base_uri": "https://localhost:8080/"
        },
        "id": "EM_LCPjpXmiK",
        "outputId": "49991938-d5b7-444b-853a-4af02760f654"
      },
      "execution_count": null,
      "outputs": [
        {
          "output_type": "execute_result",
          "data": {
            "text/plain": [
              "array([[ 1.2332821 , -1.1841292 ,  0.03847372, ...,  0.24722798,\n",
              "         1.3102813 , -1.9066025 ],\n",
              "       [ 0.97840405, -1.019581  ,  0.24952444, ...,  0.41552603,\n",
              "         1.2107834 , -1.6416715 ],\n",
              "       [ 0.9553924 , -1.1559378 ,  0.2559863 , ...,  0.48858047,\n",
              "         1.2516516 , -1.7455238 ],\n",
              "       ...,\n",
              "       [ 0.7808161 , -1.0014777 ,  0.32689705, ...,  0.27574834,\n",
              "         1.1540724 , -1.6400774 ],\n",
              "       [ 0.88111687, -0.99578106,  0.20064867, ...,  0.51199406,\n",
              "         1.2861305 , -1.7275058 ],\n",
              "       [ 0.84801227, -0.9993715 ,  0.35512507, ...,  0.31374866,\n",
              "         1.4298874 , -1.6731874 ]], dtype=float32)"
            ]
          },
          "metadata": {},
          "execution_count": 215
        }
      ]
    },
    {
      "cell_type": "markdown",
      "source": [
        "Used PineCone for vector database"
      ],
      "metadata": {
        "id": "seua4stmIL00"
      }
    },
    {
      "cell_type": "code",
      "source": [
        "import os\n",
        "use_serverless=True"
      ],
      "metadata": {
        "id": "gNnuilgrZfBI"
      },
      "execution_count": null,
      "outputs": []
    },
    {
      "cell_type": "code",
      "source": [
        "api_key=os.environ.get('PINECONE_API_KEY')\n",
        "pc=Pinecone(api_key=\"pcsk_3LLvfq_RmMBF385Va33QedCqyG6cU9HuvANvMbXnLXYzzP25wK4Lmyx8jRadnkUQ4tuHWN\")"
      ],
      "metadata": {
        "id": "fx2GtCPCnFth"
      },
      "execution_count": null,
      "outputs": []
    },
    {
      "cell_type": "code",
      "source": [
        "if use_serverless:\n",
        "  spec=ServerlessSpec(cloud='aws',region='us-east-1')\n",
        "else:\n",
        "  spec=PodSpec(environment='environment')"
      ],
      "metadata": {
        "id": "la1WlsWLnw8Z"
      },
      "execution_count": null,
      "outputs": []
    },
    {
      "cell_type": "code",
      "source": [
        "index_name=\"ragdatabase\"\n",
        "if index_name in pc.list_indexes().names():\n",
        "   pc.delete_index(index_name)"
      ],
      "metadata": {
        "id": "okHtwQWeoZoI"
      },
      "execution_count": null,
      "outputs": []
    },
    {
      "cell_type": "code",
      "source": [
        "index_name = \"ragdatabase\"\n",
        "if index_name not in pc.list_indexes():\n",
        "    pc.create_index(index_name,\n",
        "                    dimension=768,\n",
        "                    metric=\"cosine\",\n",
        "                    spec=ServerlessSpec(\n",
        "                    cloud='aws',\n",
        "                    region='us-east-1'\n",
        "                     )\n",
        "                    )\n",
        "index = pc.Index(index_name)\n",
        "ids = [f\"id-{i}\" for i in range(len(context_embedding))]\n",
        "\n",
        "data = [(ids[i], context_embedding[i].tolist()) for i in range(len(context_embedding))]\n",
        "index.upsert(vectors=data)\n",
        "print(\"Vectors uploaded successfully to Pinecone!\")\n"
      ],
      "metadata": {
        "colab": {
          "base_uri": "https://localhost:8080/"
        },
        "id": "zhjFXJf2ekV8",
        "outputId": "329d0838-42ff-420d-fddd-7f9fa0878778"
      },
      "execution_count": null,
      "outputs": [
        {
          "output_type": "stream",
          "name": "stdout",
          "text": [
            "Vectors uploaded successfully to Pinecone!\n"
          ]
        }
      ]
    },
    {
      "cell_type": "code",
      "source": [
        "question_encoder=DPRQuestionEncoder.from_pretrained(model_name)\n",
        "question_tokenizer=DPRQuestionEncoderTokenizer.from_pretrained(model_name)"
      ],
      "metadata": {
        "id": "RyQ_rEKhqJHM"
      },
      "execution_count": null,
      "outputs": []
    },
    {
      "cell_type": "code",
      "source": [
        "tokenizer = AutoTokenizer.from_pretrained(\"openai-community/gpt2\")\n",
        "model = AutoModelForCausalLM.from_pretrained(\"openai-community/gpt2\")\n",
        "model.generation_config.pad_token_id = tokenizer.pad_token_id"
      ],
      "metadata": {
        "id": "npgAt3CGqXrt"
      },
      "execution_count": null,
      "outputs": []
    },
    {
      "cell_type": "code",
      "source": [
        "def generate_answer(question):\n",
        "    inputs = tokenizer(question, return_tensors='pt', max_length=1024, truncation=True)\n",
        "\n",
        "    summary_ids = model.generate(\n",
        "        inputs['input_ids'],\n",
        "        max_length=150,  # Limit the answer length\n",
        "        min_length=40,\n",
        "        length_penalty=2.0,\n",
        "        num_beams=4,\n",
        "        early_stopping=True,\n",
        "        no_repeat_ngram_size=3,  # Avoid repeating n-grams of size 3\n",
        "        temperature=0.7,  # Control the randomness of the output\n",
        "        pad_token_id=tokenizer.eos_token_id\n",
        "    )\n",
        "\n",
        "    answer = tokenizer.decode(summary_ids[0], skip_special_tokens=True)\n",
        "    return answer\n"
      ],
      "metadata": {
        "id": "DaoA_IRSqpgL"
      },
      "execution_count": 255,
      "outputs": []
    },
    {
      "cell_type": "markdown",
      "source": [
        "# Testing ***QA*** Bot from generate answer function"
      ],
      "metadata": {
        "id": "Ge6O8Fwj7ZQA"
      }
    },
    {
      "cell_type": "code",
      "source": [
        "question = \"what is Smoking policy?\"\n",
        "answer = generate_answer(question)\n",
        "print(answer)"
      ],
      "metadata": {
        "colab": {
          "base_uri": "https://localhost:8080/"
        },
        "id": "R_ZB6KtCF_jB",
        "outputId": "0e936dfc-3113-416c-ca24-361f98705d69"
      },
      "execution_count": 256,
      "outputs": [
        {
          "output_type": "stream",
          "name": "stderr",
          "text": [
            "/usr/local/lib/python3.10/dist-packages/transformers/generation/configuration_utils.py:628: UserWarning: `do_sample` is set to `False`. However, `temperature` is set to `0.7` -- this flag is only used in sample-based generation modes. You should set `do_sample=True` or unset `temperature`.\n",
            "  warnings.warn(\n"
          ]
        },
        {
          "output_type": "stream",
          "name": "stdout",
          "text": [
            "what is Smoking policy?\n",
            "\n",
            "Smoking is defined as \"the use of tobacco products, including cigarettes, cigars, chewing tobacco, chewing gum, and chewing gum products, in a manner that is harmful to the health or welfare of any person or group of persons.\"\n",
            "\n",
            "What is the difference between smoking and smoking-related diseases? What are the health risks of smoking? What is the role of smoking in the prevention of diseases such as cancer, heart disease, stroke, diabetes, and cancer of the pancreas, liver, and lung? What does smoking have to do with smoking? How does smoking affect the health of the human body? How is smoking different from other forms of tobacco use? Is smoking harmful to human health?\n",
            "\n"
          ]
        }
      ]
    },
    {
      "cell_type": "code",
      "source": [
        "question = \"what is Recruitment policy?\"\n",
        "answer = generate_answer(question)\n",
        "print(answer)"
      ],
      "metadata": {
        "colab": {
          "base_uri": "https://localhost:8080/"
        },
        "id": "iBqOfboMTHlp",
        "outputId": "77c8c5b8-799f-4941-f57e-962c7d37d7a0"
      },
      "execution_count": 257,
      "outputs": [
        {
          "output_type": "stream",
          "name": "stdout",
          "text": [
            "what is Recruitment policy?\n",
            "\n",
            "Recruitment is the process by which a recruiter selects a candidate for a job. Recruiters use this process to select a candidate based on a number of factors such as age, gender, education level, and experience.\n",
            "\n",
            "For example, if you are looking for someone with a bachelor's degree, you may want to look for someone who has a Bachelor's degree. If you want someone with an M.B.A., you may also want someone who is a graduate of a college or university and has a Ph.D. In addition, you can look for people who have been in the workforce for at least 10 years and who have had at least one year of experience in the\n"
          ]
        }
      ]
    },
    {
      "cell_type": "code",
      "source": [
        "question = \"what is Internet and Email policy?\"\n",
        "answer = generate_answer(question)\n",
        "print(answer)"
      ],
      "metadata": {
        "colab": {
          "base_uri": "https://localhost:8080/"
        },
        "id": "sm8Vku2o5-u-",
        "outputId": "73254aa0-5d4d-47b4-f583-7d31dd178acc"
      },
      "execution_count": 258,
      "outputs": [
        {
          "output_type": "stream",
          "name": "stdout",
          "text": [
            "what is Internet and Email policy?\n",
            "\n",
            "Internet and email policies apply to all of our products and services. If you have any questions about our policies, please contact us.\n",
            "\n",
            "How do I register for a free trial of my product?\n",
            ".\n",
            ". You can register for free at any time by clicking on the \"Register Now\" button on the right hand side of this page. You will be asked to provide your email address and password. You may also choose to sign up for a trial of your product by clicking the \"Sign Up\" button at the bottom of the page. Once you have signed up for your trial, you will be able to download and install the free version of the product. You do not need to register for\n"
          ]
        }
      ]
    },
    {
      "cell_type": "code",
      "source": [
        "question = \"what is Drug and Alcohol policy?\"\n",
        "answer = generate_answer(question)\n",
        "print(answer)"
      ],
      "metadata": {
        "colab": {
          "base_uri": "https://localhost:8080/"
        },
        "id": "ckc_k5qd6Iov",
        "outputId": "07792ff4-1bd0-443c-b1a6-1d8af664e3c4"
      },
      "execution_count": 259,
      "outputs": [
        {
          "output_type": "stream",
          "name": "stdout",
          "text": [
            "what is Drug and Alcohol policy?\n",
            "\n",
            "Drug and alcohol policy is an important part of the federal government's approach to drug policy. The Drug Enforcement Administration (DEA) is responsible for enforcing the Controlled Substances Act (CSA) and the Controlled Substance Act (SAMHSA), both of which are federal laws. The DEA is also responsible for administering the National Institute on Drug Abuse (NIDA), which is the federal agency that administers the National Institutes of Health (NIH). The NIDA is a federally funded, non-profit organization dedicated to the prevention, treatment, and education of drug and alcohol abuse.\n",
            "\n",
            "The NIDA's mission is to promote the health and well-being of the American people through education, research\n"
          ]
        }
      ]
    },
    {
      "cell_type": "code",
      "source": [
        "question = \"what is Health and Safety Policy?\"\n",
        "answer = generate_answer(question)\n",
        "print(answer)"
      ],
      "metadata": {
        "colab": {
          "base_uri": "https://localhost:8080/"
        },
        "id": "5iOVb6EY6ZSB",
        "outputId": "d994ab78-c228-4600-dbc4-0927f1d49d18"
      },
      "execution_count": 260,
      "outputs": [
        {
          "output_type": "stream",
          "name": "stdout",
          "text": [
            "what is Health and Safety Policy?\n",
            "\n",
            "Health and safety policy is a set of policies that govern the health and safety of individuals, businesses, and organizations. These policies are designed to ensure that individuals and businesses comply with the laws, regulations, and regulations of the federal government.\n",
            "\n",
            "What are the different types of health care policies that are covered by the Affordable Care Act (ACA)?\n",
            "\n",
            "The ACA is a health care law that provides health care coverage to all Americans. The ACA is designed to provide coverage for all Americans, regardless of income, race, color, religion, national origin, age, disability, marital status, or any other factor that affects the health of the individual or business. The health care plan offered under the ACA is\n"
          ]
        }
      ]
    }
  ]
}